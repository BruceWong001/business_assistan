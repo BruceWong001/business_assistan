{
 "cells": [
  {
   "cell_type": "markdown",
   "metadata": {},
   "source": [
    "### 初始化一个chroma客户端进行连接。下面是本地操作。setting可以走默认不设置。"
   ]
  },
  {
   "cell_type": "code",
   "execution_count": 55,
   "metadata": {},
   "outputs": [],
   "source": [
    "import chromadb\n",
    "\n",
    "setting = chromadb.config.Settings(anonymized_telemetry=False)\n",
    "chroma_client = chromadb.HttpClient(host='10.1.61.1', port=28000, settings=setting)\n"
   ]
  },
  {
   "cell_type": "markdown",
   "metadata": {},
   "source": [
    "### 创建一个collection。chroma中collection类似于数据库中的table，用于存储相关文档的一组向量。\n",
    "\n",
    "默认使用 all-MiniLM-L6-v2 库进行向量话。默认使用L2距离进行搜索。\n"
   ]
  },
  {
   "cell_type": "code",
   "execution_count": 63,
   "metadata": {},
   "outputs": [
    {
     "name": "stdout",
     "output_type": "stream",
     "text": [
      "Vector data with L2:95\n",
      "Vector data with cosine:95\n"
     ]
    }
   ],
   "source": [
    "\n",
    "collection_L2 = chroma_client.get_or_create_collection(name=\"curricula_help_L2\")\n",
    "print(f\"Vector data with L2:{collection_L2.count()}\")\n",
    "collection_cosine = chroma_client.get_or_create_collection(name=\"curricula_help_cosine\",metadata={\"hnsw:space\": \"cosine\"})\n",
    "print(f\"Vector data with cosine:{collection_cosine.count()}\")\n"
   ]
  },
  {
   "cell_type": "markdown",
   "metadata": {},
   "source": [
    "### 如果删除某个collection可以用下面命令，根据name删除。"
   ]
  },
  {
   "cell_type": "code",
   "execution_count": 48,
   "metadata": {},
   "outputs": [],
   "source": [
    "chroma_client.delete_collection(name=\"curricula_help_L2\")\n",
    "chroma_client.delete_collection(name=\"curricula_help_cosine\")"
   ]
  },
  {
   "cell_type": "markdown",
   "metadata": {},
   "source": [
    "### 添加文档到chroma中的collection “curricula_help_L2”下面\n",
    "只使用默认的比对方法L2距离。"
   ]
  },
  {
   "cell_type": "code",
   "execution_count": 28,
   "metadata": {},
   "outputs": [
    {
     "data": {
      "text/plain": [
       "95"
      ]
     },
     "execution_count": 28,
     "metadata": {},
     "output_type": "execute_result"
    }
   ],
   "source": [
    "import json\n",
    "import os\n",
    "import json\n",
    "\n",
    "# Read the documents from the JSON files in the helpdocument folder\n",
    "documents = []\n",
    "metadatas = []\n",
    "ids = []\n",
    "folder_path = './helpdocument'\n",
    "for filename in os.listdir(folder_path):\n",
    "    if filename.endswith('.json'):\n",
    "        file_path = os.path.join(folder_path, filename)\n",
    "        with open(file_path, 'r') as file:\n",
    "            json_data = json.load(file)\n",
    "            documents.append(json_data[\"text\"])\n",
    "            metadatas.append({\"title\": json_data[\"metadata\"][\"profileName\"], \"url\": json_data[\"metadata\"][\"show_url\"]})\n",
    "            ids.append(json_data[\"_id\"])\n",
    "\n",
    "# print(documents[0])\n",
    "# print(metadatas[0][\"title\"], metadatas[0][\"url\"])\n",
    "# print(ids[0])\n",
    "# Add the documents to the collection\n",
    "collection_L2.add(\n",
    "    documents=documents,\n",
    "    metadatas=metadatas,\n",
    "    ids=ids\n",
    ")\n",
    "collection_L2.count()"
   ]
  },
  {
   "cell_type": "markdown",
   "metadata": {},
   "source": [
    "### 添加文档到chroma中的collection “curricula_help_cosine”下面\n",
    "只使用比对方法cosine来测试距离。"
   ]
  },
  {
   "cell_type": "code",
   "execution_count": 30,
   "metadata": {},
   "outputs": [
    {
     "data": {
      "text/plain": [
       "95"
      ]
     },
     "execution_count": 30,
     "metadata": {},
     "output_type": "execute_result"
    }
   ],
   "source": [
    "import json\n",
    "import os\n",
    "import json\n",
    "\n",
    "# Read the documents from the JSON files in the helpdocument folder\n",
    "documents = []\n",
    "metadatas = []\n",
    "ids = []\n",
    "folder_path = './helpdocument'\n",
    "for filename in os.listdir(folder_path):\n",
    "    if filename.endswith('.json'):\n",
    "        file_path = os.path.join(folder_path, filename)\n",
    "        with open(file_path, 'r') as file:\n",
    "            json_data = json.load(file)\n",
    "            documents.append(json_data[\"text\"])\n",
    "            metadatas.append({\"title\": json_data[\"metadata\"][\"profileName\"], \"url\": json_data[\"metadata\"][\"show_url\"]})\n",
    "            ids.append(json_data[\"_id\"])\n",
    "\n",
    "# print(documents[0])\n",
    "# print(metadatas[0][\"title\"], metadatas[0][\"url\"])\n",
    "# print(ids[0])\n",
    "# Add the documents to the collection\n",
    "collection_cosine.add(\n",
    "    documents=documents,\n",
    "    metadatas=metadatas,\n",
    "    ids=ids\n",
    ")\n",
    "collection_cosine.count()"
   ]
  },
  {
   "cell_type": "markdown",
   "metadata": {},
   "source": [
    "### 使用L2方法向量化集合查询文档"
   ]
  },
  {
   "cell_type": "code",
   "execution_count": 100,
   "metadata": {},
   "outputs": [
    {
     "name": "stdout",
     "output_type": "stream",
     "text": [
      "distance: 1.0182036040635443\n",
      "metadata: {'title': 'Set up a blended course', 'url': 'https://cdn.maivenpoint.com/assets/webhelp/curricula-for-corporate-learning-user-guide/index.htm#!Documents/setupablendedcourse.htm'}\n",
      "distance: 1.0547094833460962\n",
      "metadata: {'title': 'How to enable the system to automatically publish the \"Pass\" course grade?', 'url': 'https://cdn.maivenpoint.com/assets/webhelp/curricula-for-corporate-learning-user-guide/index.htm#!Documents/howtoenablethesystemtoautomaticallypublishthepasscoursegrade.htm'}\n",
      "distance: 1.065349913384584\n",
      "metadata: {'title': 'How to add a series of assessment meetings as learning objects?', 'url': 'https://cdn.maivenpoint.com/assets/webhelp/curricula-for-corporate-learning-user-guide/index.htm#!Documents/howtoaddaseriesofassessmentmeetingsaslearningobjects.htm'}\n",
      "distance: 1.0779555658748086\n",
      "metadata: {'title': 'How to add course content and publish to learners?', 'url': 'https://cdn.maivenpoint.com/assets/webhelp/curricula-for-corporate-learning-user-guide/index.htm#!Documents/howtoaddcoursecontentandpublishtolearners.htm'}\n",
      "distance: 1.0863783554605668\n",
      "metadata: {'title': 'How to create and manage courses?', 'url': 'https://cdn.maivenpoint.com/assets/webhelp/curricula-for-corporate-learning-user-guide/index.htm#!Documents/howtocreateandmanagecourses.htm'}\n",
      "distance: 1.0978890992275678\n",
      "metadata: {'title': 'How to add courses to my favourites?', 'url': 'https://cdn.maivenpoint.com/assets/webhelp/curricula-for-corporate-learning-user-guide/index.htm#!Documents/howtoaddcoursestomyfavourites.htm'}\n",
      "distance: 1.1074705817171406\n",
      "metadata: {'title': 'How to configure email templates?', 'url': 'https://cdn.maivenpoint.com/assets/webhelp/curricula-for-corporate-learning-user-guide/index.htm#!Documents/howtoconfigureemailtemplates.htm'}\n",
      "distance: 1.1227637681325928\n",
      "metadata: {'title': 'How to share a course to instructional design team?', 'url': 'https://cdn.maivenpoint.com/assets/webhelp/curricula-for-corporate-learning-user-guide/index.htm#!Documents/howtoshareacoursetoinstructionaldesignteam.htm'}\n",
      "distance: 1.125369508149928\n",
      "metadata: {'title': 'How to add SCORM packages as learning objects?', 'url': 'https://cdn.maivenpoint.com/assets/webhelp/curricula-for-corporate-learning-user-guide/index.htm#!Documents/howtoaddscormpackagesaslearningobjects.htm'}\n",
      "distance: 1.1489042872260355\n",
      "metadata: {'title': 'How to import a course package and export course materials?', 'url': 'https://cdn.maivenpoint.com/assets/webhelp/curricula-for-corporate-learning-user-guide/index.htm#!Documents/howtoimportacoursepackageandexportcoursematerials.htm'}\n"
     ]
    }
   ],
   "source": [
    "\n",
    "L2_result=collection_L2.query(\n",
    "    query_texts=\"how to add an assignment to my course?\",\n",
    "    n_results=10\n",
    ")\n",
    "\n",
    "top_documents=[]\n",
    "top_metadatas=[]\n",
    "indx=0\n",
    "for item in L2_result[\"distances\"][0]:\n",
    "    if item < 5:\n",
    "        # Perform desired action\n",
    "        top_documents.append(L2_result['documents'][0][indx])\n",
    "        top_metadatas.append(L2_result['metadatas'][0][indx])\n",
    "        print(f\"distance: {item}\")\n",
    "        print(f\"metadata: {L2_result['metadatas'][0][indx]}\")\n",
    "        # print(f\"document: {L2_result['documents'][0][indx]}\")\n",
    "        indx+=1\n"
   ]
  },
  {
   "cell_type": "markdown",
   "metadata": {},
   "source": [
    "### 使用cosine方法向量化集合查询文档"
   ]
  },
  {
   "cell_type": "code",
   "execution_count": 75,
   "metadata": {},
   "outputs": [
    {
     "name": "stdout",
     "output_type": "stream",
     "text": [
      "distance: 0.509101800284714\n",
      "metadata: {'title': 'Set up a blended course', 'url': 'https://cdn.maivenpoint.com/assets/webhelp/curricula-for-corporate-learning-user-guide/index.htm#!Documents/setupablendedcourse.htm'}\n",
      "distance: 0.5273547390660329\n",
      "metadata: {'title': 'How to enable the system to automatically publish the \"Pass\" course grade?', 'url': 'https://cdn.maivenpoint.com/assets/webhelp/curricula-for-corporate-learning-user-guide/index.htm#!Documents/howtoenablethesystemtoautomaticallypublishthepasscoursegrade.htm'}\n",
      "distance: 0.5326749540532154\n",
      "metadata: {'title': 'How to add a series of assessment meetings as learning objects?', 'url': 'https://cdn.maivenpoint.com/assets/webhelp/curricula-for-corporate-learning-user-guide/index.htm#!Documents/howtoaddaseriesofassessmentmeetingsaslearningobjects.htm'}\n"
     ]
    }
   ],
   "source": [
    "\n",
    "cosine_result=collection_cosine.query(\n",
    "    query_texts=\"how to add an assignment to my course?\",\n",
    "    n_results=3\n",
    ")\n",
    "indx=0\n",
    "for item in cosine_result[\"distances\"][0]:\n",
    "    if item < 0.6:\n",
    "        # Perform desired action\n",
    "        print(f\"distance: {item}\")\n",
    "        print(f\"metadata: {cosine_result['metadatas'][0][indx]}\")\n",
    "        # print(f\"document: {result['documents'][0][indx]}\")\n",
    "        indx+=1\n"
   ]
  },
  {
   "cell_type": "markdown",
   "metadata": {},
   "source": [
    "# Azure OpenAI API进行向量化处理。"
   ]
  },
  {
   "cell_type": "code",
   "execution_count": 56,
   "metadata": {},
   "outputs": [
    {
     "data": {
      "text/plain": [
       "0"
      ]
     },
     "execution_count": 56,
     "metadata": {},
     "output_type": "execute_result"
    }
   ],
   "source": [
    "import chromadb.utils.embedding_functions as embedding_functions\n",
    "import chromadb\n",
    "\n",
    "setting = chromadb.config.Settings(anonymized_telemetry=False)\n",
    "local_chroma = chromadb.HttpClient(host='10.1.61.1', port=28000, settings=setting)\n",
    "\n",
    "openai_ef = embedding_functions.OpenAIEmbeddingFunction(\n",
    "                api_key=\"6d75bde81cb1477882ec7482c8e51e05\",\n",
    "                api_base=\"https://openai-jp-new.openai.azure.com/\",\n",
    "                api_type=\"azure\",\n",
    "                api_version=\"2024-02-01\",\n",
    "                model_name=\"text-embedding-3-large\"\n",
    "            )\n",
    "\n",
    "AzureOpenAI_collection = chroma_client.get_or_create_collection(name=\"azure_ai\",metadata={\"hnsw:space\": \"cosine\"}, embedding_function=openai_ef)\n",
    "\n",
    "AzureOpenAI_collection.count()"
   ]
  },
  {
   "cell_type": "markdown",
   "metadata": {},
   "source": [
    "# 用OpenAI的API向量化"
   ]
  },
  {
   "cell_type": "code",
   "execution_count": 57,
   "metadata": {},
   "outputs": [
    {
     "name": "stderr",
     "output_type": "stream",
     "text": [
      "huggingface/tokenizers: The current process just got forked, after parallelism has already been used. Disabling parallelism to avoid deadlocks...\n",
      "To disable this warning, you can either:\n",
      "\t- Avoid using `tokenizers` before the fork if possible\n",
      "\t- Explicitly set the environment variable TOKENIZERS_PARALLELISM=(true | false)\n"
     ]
    },
    {
     "data": {
      "text/plain": [
       "95"
      ]
     },
     "execution_count": 57,
     "metadata": {},
     "output_type": "execute_result"
    }
   ],
   "source": [
    "import json\n",
    "import os\n",
    "import json\n",
    "\n",
    "# Read the documents from the JSON files in the helpdocument folder\n",
    "documents = []\n",
    "metadatas = []\n",
    "ids = []\n",
    "folder_path = './helpdocument'\n",
    "for filename in os.listdir(folder_path):\n",
    "    if filename.endswith('.json'):\n",
    "        file_path = os.path.join(folder_path, filename)\n",
    "        with open(file_path, 'r') as file:\n",
    "            json_data = json.load(file)\n",
    "            documents.append(json_data[\"text\"])\n",
    "            metadatas.append({\"title\": json_data[\"metadata\"][\"profileName\"], \"url\": json_data[\"metadata\"][\"show_url\"]})\n",
    "            ids.append(json_data[\"_id\"])\n",
    "\n",
    "# print(documents[0])\n",
    "# print(metadatas[0][\"title\"], metadatas[0][\"url\"])\n",
    "# print(ids[0])\n",
    "# Add the documents to the collection\n",
    "AzureOpenAI_collection.add(\n",
    "    documents=documents,\n",
    "    metadatas=metadatas,\n",
    "    ids=ids\n",
    ")\n",
    "AzureOpenAI_collection.count()"
   ]
  },
  {
   "cell_type": "markdown",
   "metadata": {},
   "source": [
    "# 对Azure OpenAI 向量化后进行查询向量"
   ]
  },
  {
   "cell_type": "code",
   "execution_count": 76,
   "metadata": {},
   "outputs": [
    {
     "name": "stdout",
     "output_type": "stream",
     "text": [
      "distance: 0.45042781986720937\n",
      "metadata: {'title': 'Set up a blended course', 'url': 'https://cdn.maivenpoint.com/assets/webhelp/curricula-for-corporate-learning-user-guide/index.htm#!Documents/setupablendedcourse.htm'}\n",
      "distance: 0.45912710964862546\n",
      "metadata: {'title': 'How to enable the system to automatically publish the \"Pass\" course grade?', 'url': 'https://cdn.maivenpoint.com/assets/webhelp/curricula-for-corporate-learning-user-guide/index.htm#!Documents/howtoenablethesystemtoautomaticallypublishthepasscoursegrade.htm'}\n",
      "distance: 0.5072284106356768\n",
      "metadata: {'title': 'How to add a series of assessment meetings as learning objects?', 'url': 'https://cdn.maivenpoint.com/assets/webhelp/curricula-for-corporate-learning-user-guide/index.htm#!Documents/howtoaddaseriesofassessmentmeetingsaslearningobjects.htm'}\n"
     ]
    }
   ],
   "source": [
    "\n",
    "AzureOpenAI_collection_result=AzureOpenAI_collection.query(\n",
    "    query_texts=\"How to add an assignment to my course?\",\n",
    "    n_results=3\n",
    ")\n",
    "indx=0\n",
    "for item in AzureOpenAI_collection_result[\"distances\"][0]:\n",
    "    if item < 1:\n",
    "        # Perform desired action\n",
    "        print(f\"distance: {item}\")\n",
    "        print(f\"metadata: {cosine_result['metadatas'][0][indx]}\")\n",
    "        # print(f\"document: {result['documents'][0][indx]}\")\n",
    "        indx+=1\n"
   ]
  }
 ],
 "metadata": {
  "kernelspec": {
   "display_name": "Python 3",
   "language": "python",
   "name": "python3"
  },
  "language_info": {
   "codemirror_mode": {
    "name": "ipython",
    "version": 3
   },
   "file_extension": ".py",
   "mimetype": "text/x-python",
   "name": "python",
   "nbconvert_exporter": "python",
   "pygments_lexer": "ipython3",
   "version": "3.11.1"
  }
 },
 "nbformat": 4,
 "nbformat_minor": 2
}
