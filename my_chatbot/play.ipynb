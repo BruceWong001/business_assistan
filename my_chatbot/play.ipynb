{
 "cells": [
  {
   "cell_type": "code",
   "execution_count": 1,
   "metadata": {},
   "outputs": [],
   "source": [
    "import chromadb\n",
    "\n",
    "client = chromadb.PersistentClient(path=\"./chromadb\")"
   ]
  },
  {
   "cell_type": "markdown",
   "metadata": {},
   "source": [
    "# 启动chroma local service\n",
    "\n",
    "chroma run --path ./chromadb --port 8080 \n",
    "\n",
    "不制定--port，默认是8000端口"
   ]
  },
  {
   "cell_type": "code",
   "execution_count": 2,
   "metadata": {},
   "outputs": [],
   "source": [
    "setting = chromadb.config.Settings(anonymized_telemetry=False)\n",
    "chroma_client = chromadb.HttpClient(host='localhost', port=8080, settings=setting)"
   ]
  },
  {
   "cell_type": "markdown",
   "metadata": {},
   "source": [
    "测试本地服务启动是否可用"
   ]
  },
  {
   "cell_type": "code",
   "execution_count": null,
   "metadata": {},
   "outputs": [],
   "source": [
    "collection = chroma_client.get_or_create_collection(name=\"test\")\n",
    "collection.count()"
   ]
  },
  {
   "cell_type": "markdown",
   "metadata": {},
   "source": [
    "加入文档并向量化。"
   ]
  },
  {
   "cell_type": "code",
   "execution_count": 21,
   "metadata": {},
   "outputs": [],
   "source": [
    "import json\n",
    "\n",
    "# Read the documents from the JSON file\n",
    "with open('documents.json', 'r') as file:\n",
    "    localdocuments = json.load(file)\n",
    "\n",
    "# Replace the documents parameter with the array from the JSON file\n",
    "collection.add(\n",
    "    documents=localdocuments[\"documents\"],\n",
    "    metadatas=[{\"title\": \"promptflow-Concepts-Flows\", \"url\": \"https://microsoft.github.io/promptflow/concepts/concept-flows.html\"},\n",
    "               {\"title\": \"promptflow-Concepts-Tools\", \"url\": \"https://microsoft.github.io/promptflow/concepts/concept-tools.html\"},\n",
    "               {\"title\": \"promptflow-Concepts-Connections\", \"url\": \"https://microsoft.github.io/promptflow/concepts/concept-connections.html\"},\n",
    "               {\"title\": \"紫禁城\", \"url\": \"百度知道\"},\n",
    "               {\"title\": \"故宫百科\", \"url\": \"https://baike.baidu.com/item/北京故宫/345415\"},\n",
    "               {\"title\": \"天安门广场百科\", \"url\": \"https://baike.baidu.com/item/天安门广场/117799\"},\n",
    "               {\"title\": \"Prompt flow in Azure AI Studio\", \"url\": \"https://learn.microsoft.com/en-us/azure/ai-studio/how-to/flow-develop\"}],\n",
    "    ids=[\"id1\", \"id2\", \"id3\", \"id4\", \"id5\", \"id6\",\"id7\"]\n",
    ")"
   ]
  },
  {
   "cell_type": "code",
   "execution_count": null,
   "metadata": {},
   "outputs": [],
   "source": [
    "collection.count()\n",
    "results=collection.query(\n",
    "    query_texts=\"天安门是故宫的一部分吗？\",\n",
    "    n_results=5\n",
    ")\n",
    "results['documents'][0]"
   ]
  }
 ],
 "metadata": {
  "kernelspec": {
   "display_name": "Python 3",
   "language": "python",
   "name": "python3"
  },
  "language_info": {
   "codemirror_mode": {
    "name": "ipython",
    "version": 3
   },
   "file_extension": ".py",
   "mimetype": "text/x-python",
   "name": "python",
   "nbconvert_exporter": "python",
   "pygments_lexer": "ipython3",
   "version": "3.11.1"
  }
 },
 "nbformat": 4,
 "nbformat_minor": 2
}
