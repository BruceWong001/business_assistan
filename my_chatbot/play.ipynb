{
 "cells": [
  {
   "cell_type": "code",
   "execution_count": 2,
   "metadata": {},
   "outputs": [],
   "source": [
    "import chromadb\n",
    "\n",
    "client = chromadb.PersistentClient(path=\"./chromadb\")"
   ]
  },
  {
   "cell_type": "markdown",
   "metadata": {},
   "source": [
    "# 启动chroma local service\n",
    "\n",
    "chroma run --path ./chromadb --port 8080 \n",
    "\n",
    "不制定--port，默认是8000端口"
   ]
  },
  {
   "cell_type": "code",
   "execution_count": 5,
   "metadata": {},
   "outputs": [],
   "source": [
    "setting = chromadb.config.Settings(anonymized_telemetry=False)\n",
    "chroma_client = chromadb.HttpClient(host='localhost', port=8080, settings=setting)"
   ]
  },
  {
   "cell_type": "markdown",
   "metadata": {},
   "source": [
    "测试本地服务启动是否可用"
   ]
  },
  {
   "cell_type": "code",
   "execution_count": 6,
   "metadata": {},
   "outputs": [
    {
     "data": {
      "text/plain": [
       "0"
      ]
     },
     "execution_count": 6,
     "metadata": {},
     "output_type": "execute_result"
    }
   ],
   "source": [
    "collection = chroma_client.get_or_create_collection(name=\"test\")\n",
    "collection.count()"
   ]
  },
  {
   "cell_type": "markdown",
   "metadata": {},
   "source": [
    "加入文档并向量化。"
   ]
  },
  {
   "cell_type": "code",
   "execution_count": 7,
   "metadata": {},
   "outputs": [],
   "source": [
    "import json\n",
    "\n",
    "# Read the documents from the JSON file\n",
    "with open('documents.json', 'r') as file:\n",
    "    localdocuments = json.load(file)\n",
    "\n",
    "# Replace the documents parameter with the array from the JSON file\n",
    "collection.add(\n",
    "    documents=localdocuments[\"documents\"],\n",
    "    metadatas=[{\"title\": \"promptflow-Concepts-Flows\", \"url\": \"https://microsoft.github.io/promptflow/concepts/concept-flows.html\"},\n",
    "               {\"title\": \"promptflow-Concepts-Tools\", \"url\": \"https://microsoft.github.io/promptflow/concepts/concept-tools.html\"},\n",
    "               {\"title\": \"promptflow-Concepts-Connections\", \"url\": \"https://microsoft.github.io/promptflow/concepts/concept-connections.html\"},\n",
    "               {\"title\": \"紫禁城\", \"url\": \"百度知道\"},\n",
    "               {\"title\": \"故宫百科\", \"url\": \"https://baike.baidu.com/item/北京故宫/345415\"},\n",
    "               {\"title\": \"天安门广场百科\", \"url\": \"https://baike.baidu.com/item/天安门广场/117799\"},\n",
    "               {\"title\": \"Prompt flow in Azure AI Studio\", \"url\": \"https://learn.microsoft.com/en-us/azure/ai-studio/how-to/flow-develop\"}],\n",
    "    ids=[\"id1\", \"id2\", \"id3\", \"id4\", \"id5\", \"id6\",\"id7\"]\n",
    ")"
   ]
  },
  {
   "cell_type": "code",
   "execution_count": 10,
   "metadata": {},
   "outputs": [
    {
     "data": {
      "text/plain": [
       "{'ids': [['id6', 'id4', 'id5', 'id7', 'id1']],\n",
       " 'distances': [[0.9866016962882445,\n",
       "   1.4347383548468662,\n",
       "   1.479913099100601,\n",
       "   2.0273182980524,\n",
       "   2.0796410821507187]],\n",
       " 'embeddings': None,\n",
       " 'metadatas': [[{'title': '天安门广场百科',\n",
       "    'url': 'https://baike.baidu.com/item/天安门广场/117799'},\n",
       "   {'title': '紫禁城', 'url': '百度知道'},\n",
       "   {'title': '故宫百科', 'url': 'https://baike.baidu.com/item/北京故宫/345415'},\n",
       "   {'title': 'Prompt flow in Azure AI Studio',\n",
       "    'url': 'https://learn.microsoft.com/en-us/azure/ai-studio/how-to/flow-develop'},\n",
       "   {'title': 'promptflow-Concepts-Flows',\n",
       "    'url': 'https://microsoft.github.io/promptflow/concepts/concept-flows.html'}]],\n",
       " 'documents': [['天安门广场，位于北京市东城区东长安街，其历经多次修改与变动， [20]最终形成南北长880米，东西宽500米，面积达44万平方米的大型广场， [22-23]，是世界上最大的城市广场。 [24]天安门广场中轴居中，两翼对称，可容纳100万人举行盛大集会。广场内沿北京中轴线由北向南依次矗立着国旗杆、人民英雄纪念碑、毛主席纪念堂和正阳门城楼。 [22-24]自1949年10月1日毛泽东主席在天安门城楼向全世界庄严宣告：“中华人民共和国中央人民政府今天成立了！”天安门从此成为中华人民共和国的象征。 [73]天安门广场记载了中国人民不屈不挠的革命精神和大无畏的英雄气概，五四运动、一二·九运动、五·二〇运动都在这里为中国现代革命史留下了浓重的色彩， [23]见证了中国人民一次次要民主、争自由，反抗外国侵略和反动统治的斗争。天安门广场更是共和国举行重大庆典、盛大集会和外事迎宾的神圣重地， [12]庆祝中国共产党成立100周年大会，庆祝中华人民共和国成立35、50、60、70周年大会以及纪念中国人民抗日战争暨世界反法西斯战争胜利70周年大会等都在这里举行。 [25]天安门广场旅游量常年较高， [83]人民群众们喜爱在天安门广场观看升旗仪式， [82]其中2023年国庆期间有30余万人来观看升旗仪式。 [84-85]1986年，天安门广场被评为“北京十六景”之一，景观名“天安丽日”。',\n",
       "   '紫禁城,位于中国北京，始建于明朝永乐四年（1406年），是明清两代的皇宫，延续使用了近五百年，至今已有超过600年的历史。这座宏伟的宫殿是中国古代宫廷建筑之精华，占地约720,000平方米，有宫墙围绕，内有多达9999间房屋。紫禁城不仅是中国的政治中心，也是文化和礼仪的重心，其建筑和布局反映了中国的传统哲学和宇宙观。1961年，紫禁城被列为中国国家级文物保护单位，并于1987年被联合国教科文组织评定为世界文化遗产。现今，它作为故宫博物院，对公众开放，每年吸引着成千上万的游客和历史爱好者。',\n",
       "   '北京故宫（The Imperial Palace [88]）是中国明清两代的皇家宫殿，旧称紫禁城，位于北京中轴线的中心。故宫以三大殿为中心，占地面积约72万平方米，建筑面积约15万平方米，有大小宫殿七十多座，相传故宫一共有9999.5间，实际据1973年专家现场测量故宫有房间8707间 [88]。故宫于明永乐四年（1406年）开始建设，以南京故宫为蓝本营建，到永乐十八年（1420年）建成，成为明清两朝二十四位皇帝的皇宫。民国十四年国庆节（1925年10月10日）故宫博物院正式成立开幕。北京故宫南北长961米，东西宽753米，四面围有高10米的城墙，城外有宽52米的护城河。故宫有四座城门，南面为午门，北面为神武门，东面为东华门，西面为西华门。城墙的四角各有一座风姿绰约的角楼，民间有九梁十八柱七十二条脊之说，形容其结构的复杂。 [1]故宫内的建筑分为外朝和内廷两部分。外朝的中心为太和殿、中和殿、保和殿，统称三大殿，是国家举行大典礼的地方。三大殿左右两翼辅以文华殿、武英殿两组建筑。内廷的中心是乾清宫、交泰殿、坤宁宫，统称后三宫，是皇帝和皇后居住的正宫。其后为御花园。后三宫两侧排列着东、西六宫，是后妃们居住休息的地方。东六宫东侧是天穹宝殿等佛堂建筑，西六宫西侧是中正殿等佛堂建筑。外朝、内廷之外还有外东路、外西路两部分建筑。 [1]故宫是世界上现存规模最大、保存最为完整的木质结构古建筑群之一，1961年被列为第一批全国重点文物保护单位； [2]1987年被列为世界文化遗产。 [3]',\n",
       "   'Azure AI Studio is a enterprise level AI factory. It uses prompt flow as a default function to evaluate the response of Model.',\n",
       "   'While how LLMs work may be elusive to many developers, how LLM apps work is not - they essentially involve a series of calls to external services such as LLMs/databases/search engines, or intermediate data processing, all glued together. # FlowsFlex flow        You can create LLM apps using a Python function or class as the entry point, which encapsulating your app logic. You can directly test or run these with pure code experience. Or you can define a flow.flex.yaml that points to these entries, which enables testing, running, or viewing traces via the Promptflow VS Code Extension.Our examples should also give you an idea how to write flex flows. # DAG flow Thus LLM apps can be defined as Directed Acyclic Graphs (DAGs) of function calls. These DAGs are flows in prompt flow. A DAG flow in prompt flow is a DAG of functions (we call them tools). These functions/tools connected via input/output dependencies and executed based on the topology by prompt flow executor. A flow is represented as a YAML file and can be visualized with our Prompt flow for VS Code extension. Here is an example flow.dag.yaml: ']],\n",
       " 'uris': None,\n",
       " 'data': None}"
      ]
     },
     "execution_count": 10,
     "metadata": {},
     "output_type": "execute_result"
    }
   ],
   "source": [
    "collection.count()\n",
    "results=collection.query(\n",
    "    query_texts=\"天安门\",\n",
    "    n_results=5\n",
    ")\n",
    "results"
   ]
  }
 ],
 "metadata": {
  "kernelspec": {
   "display_name": "Python 3",
   "language": "python",
   "name": "python3"
  },
  "language_info": {
   "codemirror_mode": {
    "name": "ipython",
    "version": 3
   },
   "file_extension": ".py",
   "mimetype": "text/x-python",
   "name": "python",
   "nbconvert_exporter": "python",
   "pygments_lexer": "ipython3",
   "version": "3.11.1"
  }
 },
 "nbformat": 4,
 "nbformat_minor": 2
}
